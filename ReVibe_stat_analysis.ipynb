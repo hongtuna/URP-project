{
 "cells": [
  {
   "cell_type": "code",
   "execution_count": 1,
   "metadata": {},
   "outputs": [],
   "source": [
    "import pandas as pd\n",
    "import scipy.stats as stat \n",
    "import pingouin as pg # conda install -c condaforge  pingouin (윈도우에서는 관리자 권한 CMD에서)\n",
    "\n",
    "import numpy as np\n",
    "import seaborn as sns\n",
    "import scikit_posthocs as sp # pip install scikit_posthocs\n",
    "import pymodule.effectsize as es"
   ]
  },
  {
   "cell_type": "code",
   "execution_count": 2,
   "metadata": {},
   "outputs": [],
   "source": [
    "import matplotlib as mpl\n",
    "import matplotlib.pylab as plt\n",
    "\n",
    "plt.rcParams['font.family'] = 'Malgun Gothic'\n",
    "plt.rcParams['figure.figsize'] = (4,4)\n",
    "\n",
    "sns.set_style(\"darkgrid\", { \"axes.facecolor\":\"black\",\n",
    "                            \"text.color\":\"black\",\"axes.facecolor\":\"white\",\n",
    "                            \"axes.edgecolor\": \".5\", \"grid.color\":\".85\", 'grid.linestyle': '--',\n",
    "                            \"xtick.color\":\"black\", \"ytick.color\":\"black\", \"axes.labelcolor\":\"black\", \"xtick.bottom\":\"true\", \"ytick.left\":\"true\"})\n",
    "\n",
    "def do(target_column):\n",
    "    \n",
    "    print('### Statistical Test Results on \\'{}\\' ###\\n'.format(target_column))\n",
    "\n",
    "    sns.boxplot(x=\"type\", y=\"speed\", data=sbj_data, palette=\"husl\")\n",
    "    plt.show()\n",
    "\n",
    "    \n",
    "    # (1) Check Homogeneity of Variance\n",
    "    stats, pval = stat.levene(sbj_data[sbj_data['type']=='b']['speed'], \n",
    "            sbj_data[sbj_data['type']=='v']['speed'], \n",
    "            sbj_data[sbj_data['type']=='s']['speed'])\n",
    "    print('(1) Levene Test for Equality of Variances')\n",
    "    print('statistics : {}, p-value : {}'.format(stats, pval))\n",
    "\n",
    "    # pvalue > 0.05 --> ANOVA 실행\n",
    "    if pval < 0.05:\n",
    "        return\n",
    "    \n",
    "    print()\n",
    "    \n",
    "    # (2) One-Way ANOVA\n",
    "    aov = pg.anova(dv= target_column, between='type', data = sbj_data)\n",
    "\n",
    "    print('(2) One-Way ANOVA')\n",
    "    print('p-value : {}, effect size (partial eta-square) : {}'.format(aov['p-unc'].values[0], aov['np2'].values[0]))\n",
    "\n",
    "    # Effect size 해석 시 참고 \n",
    "    # http://imaging.mrc-cbu.cam.ac.uk/statswiki/FAQ/effectSize\n",
    "    # multivariate eta square (One Way ANOVA 용) --> small : 0.01, medium : 0.06, large : 0.14\n",
    "\n",
    "    # pvalue < 0.05 --> Post_hoc test 실행\n",
    "    if aov['p-unc'].values[0] >= 0.05:\n",
    "        return\n",
    "\n",
    "    print()\n",
    "    # (3) Post-Hoc Test    \n",
    "    print('(3) Post-Hoc Test')\n",
    "    posthocs = pg.pairwise_ttests(dv=target_column, within='type', subject='user', data=sbj_data, padjust='bonf', effsize='cohen') # bonferroni correction, effect size for coehn d \n",
    "    pg.print_table(posthocs)\n",
    " "
   ]
  },
  {
   "cell_type": "markdown",
   "metadata": {},
   "source": [
    "# Read Dataset"
   ]
  },
  {
   "cell_type": "code",
   "execution_count": 3,
   "metadata": {},
   "outputs": [
    {
     "data": {
      "text/html": [
       "<div>\n",
       "<style scoped>\n",
       "    .dataframe tbody tr th:only-of-type {\n",
       "        vertical-align: middle;\n",
       "    }\n",
       "\n",
       "    .dataframe tbody tr th {\n",
       "        vertical-align: top;\n",
       "    }\n",
       "\n",
       "    .dataframe thead th {\n",
       "        text-align: right;\n",
       "    }\n",
       "</style>\n",
       "<table border=\"1\" class=\"dataframe\">\n",
       "  <thead>\n",
       "    <tr style=\"text-align: right;\">\n",
       "      <th></th>\n",
       "      <th>user</th>\n",
       "      <th>age</th>\n",
       "      <th>gender</th>\n",
       "      <th>type</th>\n",
       "      <th>read_char</th>\n",
       "      <th>corrected</th>\n",
       "      <th>time_sec</th>\n",
       "      <th>q1</th>\n",
       "      <th>q2</th>\n",
       "      <th>q3</th>\n",
       "      <th>q4</th>\n",
       "      <th>q5</th>\n",
       "      <th>q6</th>\n",
       "      <th>q7</th>\n",
       "      <th>q8</th>\n",
       "      <th>q9</th>\n",
       "      <th>q10</th>\n",
       "      <th>rank</th>\n",
       "    </tr>\n",
       "  </thead>\n",
       "  <tbody>\n",
       "    <tr>\n",
       "      <th>0</th>\n",
       "      <td>1</td>\n",
       "      <td>20</td>\n",
       "      <td>f</td>\n",
       "      <td>b</td>\n",
       "      <td>17</td>\n",
       "      <td>6</td>\n",
       "      <td>35</td>\n",
       "      <td>5</td>\n",
       "      <td>6</td>\n",
       "      <td>5</td>\n",
       "      <td>4</td>\n",
       "      <td>2</td>\n",
       "      <td>4</td>\n",
       "      <td>3</td>\n",
       "      <td>7</td>\n",
       "      <td>2</td>\n",
       "      <td>3</td>\n",
       "      <td>1</td>\n",
       "    </tr>\n",
       "    <tr>\n",
       "      <th>1</th>\n",
       "      <td>1</td>\n",
       "      <td>20</td>\n",
       "      <td>f</td>\n",
       "      <td>v</td>\n",
       "      <td>9</td>\n",
       "      <td>5</td>\n",
       "      <td>67</td>\n",
       "      <td>1</td>\n",
       "      <td>6</td>\n",
       "      <td>5</td>\n",
       "      <td>3</td>\n",
       "      <td>7</td>\n",
       "      <td>6</td>\n",
       "      <td>2</td>\n",
       "      <td>7</td>\n",
       "      <td>5</td>\n",
       "      <td>6</td>\n",
       "      <td>2</td>\n",
       "    </tr>\n",
       "    <tr>\n",
       "      <th>2</th>\n",
       "      <td>1</td>\n",
       "      <td>20</td>\n",
       "      <td>f</td>\n",
       "      <td>s</td>\n",
       "      <td>3</td>\n",
       "      <td>1</td>\n",
       "      <td>52</td>\n",
       "      <td>3</td>\n",
       "      <td>6</td>\n",
       "      <td>2</td>\n",
       "      <td>1</td>\n",
       "      <td>1</td>\n",
       "      <td>1</td>\n",
       "      <td>6</td>\n",
       "      <td>3</td>\n",
       "      <td>6</td>\n",
       "      <td>4</td>\n",
       "      <td>3</td>\n",
       "    </tr>\n",
       "    <tr>\n",
       "      <th>3</th>\n",
       "      <td>2</td>\n",
       "      <td>21</td>\n",
       "      <td>m</td>\n",
       "      <td>b</td>\n",
       "      <td>7</td>\n",
       "      <td>0</td>\n",
       "      <td>29</td>\n",
       "      <td>4</td>\n",
       "      <td>5</td>\n",
       "      <td>5</td>\n",
       "      <td>1</td>\n",
       "      <td>2</td>\n",
       "      <td>4</td>\n",
       "      <td>1</td>\n",
       "      <td>2</td>\n",
       "      <td>3</td>\n",
       "      <td>2</td>\n",
       "      <td>1</td>\n",
       "    </tr>\n",
       "    <tr>\n",
       "      <th>4</th>\n",
       "      <td>2</td>\n",
       "      <td>21</td>\n",
       "      <td>m</td>\n",
       "      <td>v</td>\n",
       "      <td>16</td>\n",
       "      <td>2</td>\n",
       "      <td>71</td>\n",
       "      <td>4</td>\n",
       "      <td>6</td>\n",
       "      <td>2</td>\n",
       "      <td>6</td>\n",
       "      <td>4</td>\n",
       "      <td>1</td>\n",
       "      <td>6</td>\n",
       "      <td>3</td>\n",
       "      <td>3</td>\n",
       "      <td>5</td>\n",
       "      <td>2</td>\n",
       "    </tr>\n",
       "  </tbody>\n",
       "</table>\n",
       "</div>"
      ],
      "text/plain": [
       "   user  age gender type  read_char  corrected  time_sec  q1  q2  q3  q4  q5  \\\n",
       "0     1   20      f    b         17          6        35   5   6   5   4   2   \n",
       "1     1   20      f    v          9          5        67   1   6   5   3   7   \n",
       "2     1   20      f    s          3          1        52   3   6   2   1   1   \n",
       "3     2   21      m    b          7          0        29   4   5   5   1   2   \n",
       "4     2   21      m    v         16          2        71   4   6   2   6   4   \n",
       "\n",
       "   q6  q7  q8  q9  q10  rank  \n",
       "0   4   3   7   2    3     1  \n",
       "1   6   2   7   5    6     2  \n",
       "2   1   6   3   6    4     3  \n",
       "3   4   1   2   3    2     1  \n",
       "4   1   6   3   3    5     2  "
      ]
     },
     "execution_count": 3,
     "metadata": {},
     "output_type": "execute_result"
    }
   ],
   "source": [
    "sbj_data = pd.read_csv('data/sbj_data.csv')\n",
    "sbj_data.head()"
   ]
  },
  {
   "cell_type": "code",
   "execution_count": 4,
   "metadata": {},
   "outputs": [],
   "source": [
    "sbj_data['speed'] = sbj_data['read_char']/sbj_data['time_sec']\n",
    "sbj_data['precision'] = sbj_data['corrected']/sbj_data['read_char']\n",
    "sbj_data['recall'] = sbj_data['read_char']/24\n",
    "\n",
    "# SUS 채점 방식 https://m.blog.naver.com/PostView.nhn?blogId=car9380&logNo=50189788957\n",
    "\n",
    "sbj_data['sus'] =( (sbj_data['q1']-1) + (sbj_data['q3']-1) + (sbj_data['q5']-1) + (sbj_data['q7']-1) + (sbj_data['q9'] - 1) +\n",
    "                    abs(sbj_data['q2']-5) + abs(sbj_data['q4']-5) + abs(sbj_data['q6']-5) + abs(sbj_data['q8']-5) + abs(sbj_data['q10'] - 5)  ) * 2.5\n",
    "    "
   ]
  },
  {
   "cell_type": "markdown",
   "metadata": {},
   "source": [
    "# SPEED"
   ]
  },
  {
   "cell_type": "code",
   "execution_count": 5,
   "metadata": {},
   "outputs": [
    {
     "name": "stdout",
     "output_type": "stream",
     "text": [
      "### Statistical Test Results on 'speed' ###\n",
      "\n"
     ]
    },
    {
     "data": {
      "image/png": "[encoded data removed]",
      "text/plain": [
       "<Figure size 288x288 with 1 Axes>"
      ]
     },
     "metadata": {},
     "output_type": "display_data"
    },
    {
     "name": "stdout",
     "output_type": "stream",
     "text": [
      "(1) Levene Test for Equality of Variances\n",
      "statistics : 0.11832432109024751, p-value : 0.888820414115999\n",
      "\n",
      "(2) One-Way ANOVA\n",
      "p-value : 0.10468887310602534, effect size (partial eta-square) : 0.14\n"
     ]
    }
   ],
   "source": [
    "do('speed')"
   ]
  },
  {
   "cell_type": "markdown",
   "metadata": {},
   "source": [
    "# PRECISION"
   ]
  },
  {
   "cell_type": "code",
   "execution_count": 6,
   "metadata": {},
   "outputs": [
    {
     "name": "stdout",
     "output_type": "stream",
     "text": [
      "### Statistical Test Results on 'precision' ###\n",
      "\n"
     ]
    },
    {
     "data": {
      "image/png": "[encoded data removed]",
      "text/plain": [
       "<Figure size 288x288 with 1 Axes>"
      ]
     },
     "metadata": {},
     "output_type": "display_data"
    },
    {
     "name": "stdout",
     "output_type": "stream",
     "text": [
      "(1) Levene Test for Equality of Variances\n",
      "statistics : 0.11832432109024751, p-value : 0.888820414115999\n",
      "\n",
      "(2) One-Way ANOVA\n",
      "p-value : 0.2304709366036292, effect size (partial eta-square) : 0.096\n"
     ]
    }
   ],
   "source": [
    "do('precision')"
   ]
  },
  {
   "cell_type": "markdown",
   "metadata": {},
   "source": [
    "# RECALL"
   ]
  },
  {
   "cell_type": "code",
   "execution_count": 7,
   "metadata": {},
   "outputs": [
    {
     "name": "stdout",
     "output_type": "stream",
     "text": [
      "### Statistical Test Results on 'recall' ###\n",
      "\n"
     ]
    },
    {
     "data": {
      "image/png": "[encoded data removed]",
      "text/plain": [
       "<Figure size 288x288 with 1 Axes>"
      ]
     },
     "metadata": {},
     "output_type": "display_data"
    },
    {
     "name": "stdout",
     "output_type": "stream",
     "text": [
      "(1) Levene Test for Equality of Variances\n",
      "statistics : 0.11832432109024751, p-value : 0.888820414115999\n",
      "\n",
      "(2) One-Way ANOVA\n",
      "p-value : 0.04686595460211421, effect size (partial eta-square) : 0.185\n",
      "\n",
      "(3) Post-Hoc Test\n",
      "\n",
      "==============\n",
      "POST HOC TESTS\n",
      "==============\n",
      "\n",
      "Contrast    A    B    Paired    Parametric        T     dof  tail         p-unc    p-corr  p-adjust      BF10    CLES    cohen\n",
      "----------  ---  ---  --------  ------------  -----  ------  ---------  -------  --------  ----------  ------  ------  -------\n",
      "type        b    v    True      True          0.844  10.000  two-sided    0.419     1.000  bonf         0.401   0.603    0.412\n",
      "type        b    s    True      True          3.504  10.000  two-sided    0.006     0.017  bonf         9.571   0.818    1.446\n",
      "type        v    s    True      True          1.742  10.000  two-sided    0.112     0.336  bonf         0.939   0.628    0.631\n",
      "\n"
     ]
    }
   ],
   "source": [
    "do('recall')"
   ]
  },
  {
   "cell_type": "markdown",
   "metadata": {},
   "source": [
    "# System Usability Scale"
   ]
  },
  {
   "cell_type": "code",
   "execution_count": 8,
   "metadata": {},
   "outputs": [
    {
     "name": "stdout",
     "output_type": "stream",
     "text": [
      "### Statistical Test Results on 'sus' ###\n",
      "\n"
     ]
    },
    {
     "data": {
      "image/png": "[encoded data removed]",
      "text/plain": [
       "<Figure size 288x288 with 1 Axes>"
      ]
     },
     "metadata": {},
     "output_type": "display_data"
    },
    {
     "name": "stdout",
     "output_type": "stream",
     "text": [
      "(1) Levene Test for Equality of Variances\n",
      "statistics : 0.11832432109024751, p-value : 0.888820414115999\n",
      "\n",
      "(2) One-Way ANOVA\n",
      "p-value : 0.13956828432652885, effect size (partial eta-square) : 0.123\n"
     ]
    }
   ],
   "source": [
    "do('sus')"
   ]
  },
  {
   "cell_type": "code",
   "execution_count": null,
   "metadata": {},
   "outputs": [],
   "source": []
  }
 ],
 "metadata": {
  "kernelspec": {
   "display_name": "Python 3",
   "language": "python",
   "name": "python3"
  },
  "language_info": {
   "codemirror_mode": {
    "name": "ipython",
    "version": 3
   },
   "file_extension": ".py",
   "mimetype": "text/x-python",
   "name": "python",
   "nbconvert_exporter": "python",
   "pygments_lexer": "ipython3",
   "version": "3.7.3"
  }
 },
 "nbformat": 4,
 "nbformat_minor": 4
}
